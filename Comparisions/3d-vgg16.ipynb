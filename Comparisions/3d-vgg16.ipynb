version https://git-lfs.github.com/spec/v1
oid sha256:b399746753d0422029286cd8349ba2a82e58d06ee31c2920226188dc968c819d
size 103988
