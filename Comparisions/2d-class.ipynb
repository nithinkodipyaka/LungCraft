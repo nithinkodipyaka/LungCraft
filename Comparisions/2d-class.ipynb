{
 "cells": [
  {
   "cell_type": "markdown",
   "metadata": {},
   "source": [
    "2D Classification"
   ]
  },
  {
   "cell_type": "code",
   "execution_count": 1,
   "metadata": {},
   "outputs": [],
   "source": [
    "import os\n",
    "import numpy as np\n",
    "import pandas as pd\n",
    "import pydicom as dicom\n",
    "import cv2\n",
    "import math\n",
    "import matplotlib.pyplot as plt\n",
    "from sklearn.model_selection import train_test_split\n",
    "from sklearn.metrics import classification_report, confusion_matrix\n",
    "from sklearn.svm import SVC\n",
    "from sklearn.ensemble import RandomForestClassifier\n",
    "from sklearn.neighbors import KNeighborsClassifier\n",
    "from sklearn.preprocessing import StandardScaler"
   ]
  },
  {
   "cell_type": "code",
   "execution_count": null,
   "metadata": {},
   "outputs": [],
   "source": [
    "DATA_DIR = 'Data/'\n",
    "LABELS_CSV = 'LungCT-Labels - Sheet1.csv'\n",
    "IMG_SIZE_PX = 150\n",
    "SLICE_COUNT = 20"
   ]
  },
  {
   "cell_type": "code",
   "execution_count": null,
   "metadata": {},
   "outputs": [],
   "source": [
    "def load_data(data_dir, labels_df, img_size_px=IMG_SIZE_PX, hm_slices=SLICE_COUNT):\n",
    "    image_full_data = []\n",
    "    \n",
    "    patients = os.listdir(data_dir)\n",
    "\n",
    "    for patient in patients:\n",
    "        label = labels_df.at[patient, 'Labels']\n",
    "        path = os.path.join(data_dir, patient)\n",
    "        slices = [dicom.read_file(os.path.join(path, s)) for s in os.listdir(path)]\n",
    "        slices.sort(key=lambda x: int(x.ImagePositionPatient[2]))\n",
    "\n",
    "        new_slices = []\n",
    "        slices = [cv2.resize(np.array(each_slice.pixel_array), (img_size_px, img_size_px)) for each_slice in slices]\n",
    "        \n",
    "        chunk_sizes = math.ceil(len(slices) / hm_slices)\n",
    "        for i in range(0, len(slices), chunk_sizes):\n",
    "            slice_chunk = slices[i:i + chunk_sizes]\n",
    "            if len(slice_chunk) > 0:\n",
    "                new_slices.append(np.mean(slice_chunk, axis=0))\n",
    "\n",
    "        if len(new_slices) < hm_slices:\n",
    "            last_slice = new_slices[-1]\n",
    "            while len(new_slices) < hm_slices:\n",
    "                new_slices.append(last_slice)\n",
    "\n",
    "        flattened_slices = np.array(new_slices).flatten()\n",
    "        image_full_data.append([flattened_slices, 1 if label == 1 else 0])\n",
    "\n",
    "    return image_full_data\n"
   ]
  },
  {
   "cell_type": "code",
   "execution_count": null,
   "metadata": {},
   "outputs": [],
   "source": [
    "\n",
    "labels_df = pd.read_csv(LABELS_CSV, index_col=0)\n",
    "\n",
    "image_full_data = load_data(DATA_DIR, labels_df)\n"
   ]
  },
  {
   "cell_type": "code",
   "execution_count": null,
   "metadata": {},
   "outputs": [],
   "source": [
    "X = np.array([item[0] for item in image_full_data])\n",
    "y = np.array([item[1] for item in image_full_data])\n",
    "X_train, X_val, y_train, y_val = train_test_split(X, y, test_size=0.2, random_state=42)\n",
    "\n",
    "scaler = StandardScaler()\n",
    "X_train = scaler.fit_transform(X_train)\n",
    "X_val = scaler.transform(X_val)"
   ]
  },
  {
   "cell_type": "code",
   "execution_count": null,
   "metadata": {},
   "outputs": [],
   "source": [
    "# Models\n",
    "models = {\n",
    "    \"SVM\": SVC(kernel='linear', probability=True),\n",
    "    \"Random Forest\": RandomForestClassifier(n_estimators=100),\n",
    "    \"K-Nearest Neighbors\": KNeighborsClassifier(n_neighbors=5)\n",
    "}\n"
   ]
  },
  {
   "cell_type": "code",
   "execution_count": null,
   "metadata": {},
   "outputs": [],
   "source": [
    "def train_and_evaluate(model, X_train, y_train, X_val, y_val):\n",
    "    model.fit(X_train, y_train)\n",
    "    y_pred = model.predict(X_val)\n",
    "    \n",
    "    print(f\"Model: {model.__class__.__name__}\")\n",
    "    print(\"Classification Report:\\n\", classification_report(y_val, y_pred))\n",
    "    print(\"Confusion Matrix:\\n\", confusion_matrix(y_val, y_pred))\n",
    "    print(\"\\n\" + \"-\"*50 + \"\\n\")\n"
   ]
  },
  {
   "cell_type": "code",
   "execution_count": null,
   "metadata": {},
   "outputs": [
    {
     "name": "stdout",
     "output_type": "stream",
     "text": [
      "Model: SVC\n",
      "Classification Report:\n",
      "               precision    recall  f1-score   support\n",
      "\n",
      "           0       0.25      0.17      0.20         6\n",
      "           1       0.44      0.57      0.50         7\n",
      "\n",
      "    accuracy                           0.38        13\n",
      "   macro avg       0.35      0.37      0.35        13\n",
      "weighted avg       0.35      0.38      0.36        13\n",
      "\n",
      "Confusion Matrix:\n",
      " [[1 5]\n",
      " [3 4]]\n",
      "\n",
      "--------------------------------------------------\n",
      "\n",
      "Model: RandomForestClassifier\n",
      "Classification Report:\n",
      "               precision    recall  f1-score   support\n",
      "\n",
      "           0       0.00      0.00      0.00         6\n",
      "           1       0.50      0.86      0.63         7\n",
      "\n",
      "    accuracy                           0.46        13\n",
      "   macro avg       0.25      0.43      0.32        13\n",
      "weighted avg       0.27      0.46      0.34        13\n",
      "\n",
      "Confusion Matrix:\n",
      " [[0 6]\n",
      " [1 6]]\n",
      "\n",
      "--------------------------------------------------\n",
      "\n",
      "Model: KNeighborsClassifier\n",
      "Classification Report:\n",
      "               precision    recall  f1-score   support\n",
      "\n",
      "           0       0.33      0.17      0.22         6\n",
      "           1       0.50      0.71      0.59         7\n",
      "\n",
      "    accuracy                           0.46        13\n",
      "   macro avg       0.42      0.44      0.41        13\n",
      "weighted avg       0.42      0.46      0.42        13\n",
      "\n",
      "Confusion Matrix:\n",
      " [[1 5]\n",
      " [2 5]]\n",
      "\n",
      "--------------------------------------------------\n",
      "\n"
     ]
    }
   ],
   "source": [
    "for model_name, model in models.items():\n",
    "    train_and_evaluate(model, X_train, y_train, X_val, y_val)\n"
   ]
  },
  {
   "cell_type": "code",
   "execution_count": null,
   "metadata": {},
   "outputs": [],
   "source": [
    "def plot_confusion_matrix(cm, classes):\n",
    "    plt.figure(figsize=(8, 6))\n",
    "    plt.imshow(cm, interpolation='nearest', cmap=plt.cm.Blues)\n",
    "    plt.title('Confusion Matrix')\n",
    "    plt.colorbar()\n",
    "    tick_marks = np.arange(len(classes))\n",
    "    plt.xticks(tick_marks, classes)\n",
    "    plt.yticks(tick_marks, classes)\n",
    "    plt.ylabel('True label')\n",
    "    plt.xlabel('Predicted label')\n",
    "    plt.tight_layout()"
   ]
  },
  {
   "cell_type": "code",
   "execution_count": null,
   "metadata": {},
   "outputs": [
    {
     "data": {
      "image/png": "[encoded data removed]",
      "text/plain": [
       "<Figure size 800x600 with 2 Axes>"
      ]
     },
     "metadata": {},
     "output_type": "display_data"
    }
   ],
   "source": [
    "final_model = RandomForestClassifier(n_estimators=100)\n",
    "final_model.fit(X_train, y_train)\n",
    "y_pred_final = final_model.predict(X_val)\n",
    "cm_final = confusion_matrix(y_val, y_pred_final)\n",
    "plot_confusion_matrix(cm_final, classes=['Class 0', 'Class 1'])"
   ]
  }
 ],
 "metadata": {
  "kernelspec": {
   "display_name": "Python 3",
   "language": "python",
   "name": "python3"
  },
  "language_info": {
   "codemirror_mode": {
    "name": "ipython",
    "version": 3
   },
   "file_extension": ".py",
   "mimetype": "text/x-python",
   "name": "python",
   "nbconvert_exporter": "python",
   "pygments_lexer": "ipython3",
   "version": "3.10.0"
  }
 },
 "nbformat": 4,
 "nbformat_minor": 2
}
