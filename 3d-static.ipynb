version https://git-lfs.github.com/spec/v1
oid sha256:8a9d7b0fc541d0a240356eef11b08ffa85b3b37ce37535ccce009558b474b682
size 1374740
